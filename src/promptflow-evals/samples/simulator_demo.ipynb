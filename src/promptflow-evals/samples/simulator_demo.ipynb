{
 "cells": [
  {
   "cell_type": "code",
   "execution_count": 2,
   "metadata": {},
   "outputs": [
    {
     "ename": "SyntaxError",
     "evalue": "invalid syntax (2013407302.py, line 9)",
     "output_type": "error",
     "traceback": [
      "\u001b[1;36m  Cell \u001b[1;32mIn[2], line 9\u001b[1;36m\u001b[0m\n\u001b[1;33m    \"subscription_id\": <subscription_id>,\u001b[0m\n\u001b[1;37m                       ^\u001b[0m\n\u001b[1;31mSyntaxError\u001b[0m\u001b[1;31m:\u001b[0m invalid syntax\n"
     ]
    }
   ],
   "source": [
    "from promptflow.evals.synthetic import AdversarialSimulator, AdversarialScenario\n",
    "from azure.identity import DefaultAzureCredential\n",
    "from typing import Any, Dict, List, Optional\n",
    "import asyncio\n",
    "import os\n",
    "\n",
    "\n",
    "\n",
    "azure_ai_project = {\n",
    "    \"subscription_id\": os.getenv(\"AZURE_SUBSCRIPTION_ID\"),\n",
    "    \"resource_group_name\": os.getenv(\"AZURE_RESOURCE_GROUP_NAME\"),\n",
    "    \"project_name\": os.getenv(\"AZURE_PROJECT_NAME\"),\n",
    "}\n",
    "\n",
    "async def callback(\n",
    "    messages: List[Dict],\n",
    "    stream: bool = False,\n",
    "    session_state: Any = None,\n",
    "    context: Dict[str, Any] = None\n",
    ") -> dict:\n",
    "    messages_list = messages[\"messages\"]\n",
    "    # get last message\n",
    "    latest_message = messages_list[-1]\n",
    "    query = latest_message[\"content\"]\n",
    "    context = None\n",
    "    if 'file_content' in messages[\"template_parameters\"]:\n",
    "        query += messages[\"template_parameters\"]['file_content']\n",
    "    # the next few lines explains how to use the AsyncAzureOpenAI's chat.completions\n",
    "    # to respond to the simulator. You should replace it with a call to your model/endpoint/application\n",
    "    # make sure you pass the `query` and format the response as we have shown below\n",
    "    from openai import AsyncAzureOpenAI\n",
    "    oai_client = AsyncAzureOpenAI(\n",
    "        api_key=<api_key>,\n",
    "        azure_endpoint=<endpoint>,\n",
    "        api_version=\"2023-12-01-preview\",\n",
    "    )\n",
    "    try:\n",
    "        response_from_oai_chat_completions = await oai_client.chat.completions.create(messages=[{\"content\": query, \"role\": \"user\"}], model=\"gpt-4\", max_tokens=300)\n",
    "    except Exception as e:\n",
    "        print(f\"Error: {e}\")\n",
    "        # to continue the conversation, return the messages, else you can fail the adversarial with an exception\n",
    "        message = {\n",
    "            \"content\": \"Something went wrong. Check the exception e for more details.\",\n",
    "            \"role\": \"assistant\",\n",
    "            \"context\": None,\n",
    "        }\n",
    "        messages[\"messages\"].append(message)\n",
    "        return {\n",
    "            \"messages\": messages[\"messages\"],\n",
    "            \"stream\": stream,\n",
    "            \"session_state\": session_state\n",
    "        }\n",
    "    response_result = response_from_oai_chat_completions.choices[0].message.content\n",
    "    formatted_response = {\n",
    "        \"content\": response_result,\n",
    "        \"role\": \"assistant\",\n",
    "        \"context\": {},\n",
    "    }\n",
    "    messages[\"messages\"].append(formatted_response)\n",
    "    return {\n",
    "        \"messages\": messages[\"messages\"],\n",
    "        \"stream\": stream,\n",
    "        \"session_state\": session_state,\n",
    "        \"context\": context\n",
    "    }\n"
   ]
  },
  {
   "cell_type": "code",
   "execution_count": 1,
   "metadata": {},
   "outputs": [
    {
     "ename": "NameError",
     "evalue": "name 'AdversarialScenario' is not defined",
     "output_type": "error",
     "traceback": [
      "\u001b[1;31m---------------------------------------------------------------------------\u001b[0m",
      "\u001b[1;31mNameError\u001b[0m                                 Traceback (most recent call last)",
      "Cell \u001b[1;32mIn[1], line 1\u001b[0m\n\u001b[1;32m----> 1\u001b[0m scenario \u001b[38;5;241m=\u001b[39m \u001b[43mAdversarialScenario\u001b[49m\u001b[38;5;241m.\u001b[39mADVERSARIAL_QA\n\u001b[0;32m      2\u001b[0m simulator \u001b[38;5;241m=\u001b[39m AdversarialSimulator(azure_ai_project\u001b[38;5;241m=\u001b[39mazure_ai_project, credential\u001b[38;5;241m=\u001b[39mDefaultAzureCredential())\n\u001b[0;32m      4\u001b[0m outputs \u001b[38;5;241m=\u001b[39m asyncio\u001b[38;5;241m.\u001b[39mrun(\n\u001b[0;32m      5\u001b[0m     simulator(\n\u001b[0;32m      6\u001b[0m         scenario\u001b[38;5;241m=\u001b[39mscenario,\n\u001b[1;32m   (...)\u001b[0m\n\u001b[0;32m     10\u001b[0m     )\n\u001b[0;32m     11\u001b[0m )\n",
      "\u001b[1;31mNameError\u001b[0m: name 'AdversarialScenario' is not defined"
     ]
    }
   ],
   "source": [
    "scenario = AdversarialScenario.ADVERSARIAL_QA\n",
    "simulator = AdversarialSimulator(azure_ai_project=azure_ai_project, credential=DefaultAzureCredential())\n",
    "\n",
    "outputs = asyncio.run(\n",
    "    simulator(\n",
    "        scenario=scenario,\n",
    "        max_conversation_turns=1,\n",
    "        max_simulation_results=3,\n",
    "        target=callback\n",
    "    )\n",
    ")"
   ]
  }
 ],
 "metadata": {
  "kernelspec": {
   "display_name": "promptflow-dev-venv",
   "language": "python",
   "name": "python3"
  },
  "language_info": {
   "codemirror_mode": {
    "name": "ipython",
    "version": 3
   },
   "file_extension": ".py",
   "mimetype": "text/x-python",
   "name": "python",
   "nbconvert_exporter": "python",
   "pygments_lexer": "ipython3",
   "version": "3.10.11"
  }
 },
 "nbformat": 4,
 "nbformat_minor": 2
}
